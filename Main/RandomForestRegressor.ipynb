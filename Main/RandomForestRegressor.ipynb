{
 "cells": [
  {
   "cell_type": "code",
   "execution_count": 3,
   "metadata": {},
   "outputs": [],
   "source": [
    "import pandas as pd\n",
    "import numpy as np\n",
    "import matplotlib.pyplot as plt\n",
    "import seaborn as sns"
   ]
  },
  {
   "cell_type": "code",
   "execution_count": 6,
   "metadata": {},
   "outputs": [],
   "source": [
    "def RandomForestRegressor():\n",
    "    df=pd.read_csv(r'C:\\Users\\Pradeep Sharma\\AQI\\Data\\Data\\Real-Data\\Real_Combine.csv')\n",
    "    df=df.dropna()\n",
    "    X=df.iloc[:,:-1] \n",
    "    y=df.iloc[:,-1] \n",
    "    from sklearn.ensemble import ExtraTreesRegressor\n",
    "    import matplotlib.pyplot as plt\n",
    "    model = ExtraTreesRegressor()\n",
    "    model.fit(X,y)\n",
    "    feat_importances = pd.Series(model.feature_importances_, index=X.columns)\n",
    "    from sklearn.model_selection import train_test_split\n",
    "    X_train, X_test, y_train, y_test = train_test_split(X, y, test_size=0.3, random_state=0)\n",
    "    from sklearn.ensemble import RandomForestRegressor\n",
    "    regressor=RandomForestRegressor()\n",
    "    regressor.fit(X_train,y_train)\n",
    "    from sklearn.model_selection import cross_val_score\n",
    "    score=cross_val_score(regressor,X,y,cv=5)\n",
    "    prediction=regressor.predict(X_test)\n",
    "    RandomForestRegressor()\n",
    "    from sklearn.model_selection import RandomizedSearchCV\n",
    "    n_estimators = [int(x) for x in np.linspace(start = 100, stop = 1200, num = 12)]\n",
    "    max_features = ['auto', 'sqrt']\n",
    "    max_depth = [int(x) for x in np.linspace(5, 30, num = 6)]\n",
    "    min_samples_split = [2, 5, 10, 15, 100]\n",
    "    min_samples_leaf = [1, 2, 5, 10]\n",
    "    random_grid = {'n_estimators': n_estimators,\n",
    "               'max_features': max_features,\n",
    "               'max_depth': max_depth,\n",
    "               'min_samples_split': min_samples_split,\n",
    "               'min_samples_leaf': min_samples_leaf}\n",
    "    rf = RandomForestRegressor()   \n",
    "    rf_random = RandomizedSearchCV(estimator = rf, param_distributions = random_grid,scoring='neg_mean_squared_error', n_iter = 100, cv = 5, verbose=2, random_state=42, n_jobs = 1)\n",
    "    rf_random.fit(X_train,y_train)\n",
    "    predictions=rf_random.predict(X_test)\n",
    "    from sklearn import metrics\n",
    "    return np.sqrt(metrics.mean_squared_error(y_test, predictions))"
   ]
  },
  {
   "cell_type": "code",
   "execution_count": null,
   "metadata": {},
   "outputs": [],
   "source": []
  }
 ],
 "metadata": {
  "kernelspec": {
   "display_name": "Python 3",
   "language": "python",
   "name": "python3"
  },
  "language_info": {
   "codemirror_mode": {
    "name": "ipython",
    "version": 3
   },
   "file_extension": ".py",
   "mimetype": "text/x-python",
   "name": "python",
   "nbconvert_exporter": "python",
   "pygments_lexer": "ipython3",
   "version": "3.8.3"
  }
 },
 "nbformat": 4,
 "nbformat_minor": 4
}
