{
 "cells": [
  {
   "cell_type": "code",
   "execution_count": 3,
   "metadata": {},
   "outputs": [],
   "source": [
    "import pandas as pd\n",
    "import numpy as np\n",
    "import matplotlib.pyplot as plt\n",
    "import seaborn as sns"
   ]
  },
  {
   "cell_type": "code",
   "execution_count": 4,
   "metadata": {},
   "outputs": [],
   "source": [
    "def LassoRegression():\n",
    "    df=pd.read_csv(r'C:\\Users\\Pradeep Sharma\\AQI\\Data\\Data\\Real-Data\\Real_Combine.csv')\n",
    "    df=df.dropna()\n",
    "    X=df.iloc[:,:-1] \n",
    "    y=df.iloc[:,-1] \n",
    "    from sklearn.ensemble import ExtraTreesRegressor\n",
    "    import matplotlib.pyplot as plt\n",
    "    model = ExtraTreesRegressor()\n",
    "    model.fit(X,y)\n",
    "    feat_importances = pd.Series(model.feature_importances_, index=X.columns)\n",
    "    from sklearn.model_selection import train_test_split\n",
    "    X_train, X_test, y_train, y_test = train_test_split(X, y, test_size=0.3, random_state=0)\n",
    "    from sklearn.model_selection import cross_val_score\n",
    "    from sklearn.linear_model import LinearRegression\n",
    "    lin_regressor=LinearRegression()\n",
    "    mse=cross_val_score(lin_regressor,X,y,scoring='neg_mean_squared_error',cv=5)\n",
    "    mean_mse=np.mean(mse)\n",
    "    from sklearn.linear_model import Ridge\n",
    "    from sklearn.model_selection import GridSearchCV\n",
    "    ridge=Ridge()\n",
    "    parameters={'alpha':[1e-15,1e-10,1e-8,1e-3,1e-2,1,5,10,20,30,35,40]}\n",
    "    ridge_regressor=GridSearchCV(ridge,parameters,scoring='neg_mean_squared_error',cv=5)\n",
    "    ridge_regressor.fit(X,y)\n",
    "    from sklearn.linear_model import Lasso\n",
    "    from sklearn.model_selection import GridSearchCV\n",
    "    lasso=Lasso()\n",
    "    parameters={'alpha':[1e-15,1e-10,1e-8,1e-3,1e-2,1,5,10,20,30,35,40]}\n",
    "    lasso_regressor=GridSearchCV(lasso,parameters,scoring='neg_mean_squared_error',cv=5)\n",
    "    lasso_regressor.fit(X,y)\n",
    "    prediction=lasso_regressor.predict(X_test)\n",
    "    from sklearn import metrics\n",
    "    return np.sqrt(metrics.mean_squared_error(y_test, prediction))"
   ]
  }
 ],
 "metadata": {
  "kernelspec": {
   "display_name": "Python 3",
   "language": "python",
   "name": "python3"
  },
  "language_info": {
   "codemirror_mode": {
    "name": "ipython",
    "version": 3
   },
   "file_extension": ".py",
   "mimetype": "text/x-python",
   "name": "python",
   "nbconvert_exporter": "python",
   "pygments_lexer": "ipython3",
   "version": "3.8.3"
  }
 },
 "nbformat": 4,
 "nbformat_minor": 4
}
